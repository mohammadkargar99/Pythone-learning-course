{
 "cells": [
  {
   "cell_type": "markdown",
   "id": "6ea63de1",
   "metadata": {},
   "source": [
    "# Exercises Python KNTU\n",
    "\n",
    "* Name: Mohammad Kargar-gazkoh\n",
    "* EMail: mohammadkargargazkoh@gmail.com\n",
    "* GitHub: https://github.com/mohammadkargar99"
   ]
  },
  {
   "cell_type": "markdown",
   "id": "5d933975",
   "metadata": {},
   "source": [
    "# Pandas Tasks and Challenges"
   ]
  },
  {
   "cell_type": "markdown",
   "id": "f80adfe8",
   "metadata": {},
   "source": [
    "### Task 1:\n",
    "    Open file heights_weights_genders using open function and convert the males/Males to 0 and females/Females to 1\n",
    "    Note: Do not use pandas dataframes... "
   ]
  },
  {
   "cell_type": "code",
   "execution_count": 230,
   "id": "74df2741",
   "metadata": {},
   "outputs": [
    {
     "name": "stdout",
     "output_type": "stream",
     "text": [
      "['\"0\",73.847017017515,241.893563180437\\n', '\"0\",68.7819040458903,162.310472521300\\n', '\"0\",74.1101053917849,212.7408555565\\n', '\"0\",71.7309784033377,220.042470303077\\n'] \n",
      "\n",
      "\n",
      "['\"1\",59.0982500313486,110.529685683049\\n', '\"1\",66.1726521477708,136.777454183235\\n', '\"1\",67.067154649054,170.867905890713\\n', '\"1\",63.8679922137577,128.475318784122\\n', '\"1\",69.0342431307346,163.852461346571\\n', '\"1\",61.9442458795172,113.649102675312\\n']\n"
     ]
    }
   ],
   "source": [
    "with open('files/heights_weights_genders.csv') as file:\n",
    "    lines = file.readlines()\n",
    "    str = \"\"\n",
    "    j = 1\n",
    "    for i in lines:\n",
    "        if \"Female\" in i:\n",
    "            str = i.replace(\"Female\",\"1\")\n",
    "        elif \"Male\" in i:\n",
    "            str = i.replace(\"Male\",\"0\") \n",
    "        else:\n",
    "            continue\n",
    "        lines[j] = str\n",
    "        j+=1  \n",
    "print(lines[1:5],'\\n\\n')\n",
    "print(lines[9995::])"
   ]
  },
  {
   "cell_type": "markdown",
   "id": "443a7591",
   "metadata": {},
   "source": [
    "### Task 2:\n",
    "    Do the previous using pandas dataframes..."
   ]
  },
  {
   "cell_type": "code",
   "execution_count": 231,
   "id": "37a595af",
   "metadata": {},
   "outputs": [
    {
     "data": {
      "text/html": [
       "<div>\n",
       "<style scoped>\n",
       "    .dataframe tbody tr th:only-of-type {\n",
       "        vertical-align: middle;\n",
       "    }\n",
       "\n",
       "    .dataframe tbody tr th {\n",
       "        vertical-align: top;\n",
       "    }\n",
       "\n",
       "    .dataframe thead th {\n",
       "        text-align: right;\n",
       "    }\n",
       "</style>\n",
       "<table border=\"1\" class=\"dataframe\">\n",
       "  <thead>\n",
       "    <tr style=\"text-align: right;\">\n",
       "      <th></th>\n",
       "      <th>Gender</th>\n",
       "      <th>Height</th>\n",
       "      <th>Weight</th>\n",
       "    </tr>\n",
       "  </thead>\n",
       "  <tbody>\n",
       "    <tr>\n",
       "      <th>0</th>\n",
       "      <td>0</td>\n",
       "      <td>73.847017</td>\n",
       "      <td>241.893563</td>\n",
       "    </tr>\n",
       "    <tr>\n",
       "      <th>1</th>\n",
       "      <td>0</td>\n",
       "      <td>68.781904</td>\n",
       "      <td>162.310473</td>\n",
       "    </tr>\n",
       "    <tr>\n",
       "      <th>2</th>\n",
       "      <td>0</td>\n",
       "      <td>74.110105</td>\n",
       "      <td>212.740856</td>\n",
       "    </tr>\n",
       "    <tr>\n",
       "      <th>3</th>\n",
       "      <td>0</td>\n",
       "      <td>71.730978</td>\n",
       "      <td>220.042470</td>\n",
       "    </tr>\n",
       "    <tr>\n",
       "      <th>4</th>\n",
       "      <td>0</td>\n",
       "      <td>69.881796</td>\n",
       "      <td>206.349801</td>\n",
       "    </tr>\n",
       "    <tr>\n",
       "      <th>...</th>\n",
       "      <td>...</td>\n",
       "      <td>...</td>\n",
       "      <td>...</td>\n",
       "    </tr>\n",
       "    <tr>\n",
       "      <th>9995</th>\n",
       "      <td>1</td>\n",
       "      <td>66.172652</td>\n",
       "      <td>136.777454</td>\n",
       "    </tr>\n",
       "    <tr>\n",
       "      <th>9996</th>\n",
       "      <td>1</td>\n",
       "      <td>67.067155</td>\n",
       "      <td>170.867906</td>\n",
       "    </tr>\n",
       "    <tr>\n",
       "      <th>9997</th>\n",
       "      <td>1</td>\n",
       "      <td>63.867992</td>\n",
       "      <td>128.475319</td>\n",
       "    </tr>\n",
       "    <tr>\n",
       "      <th>9998</th>\n",
       "      <td>1</td>\n",
       "      <td>69.034243</td>\n",
       "      <td>163.852461</td>\n",
       "    </tr>\n",
       "    <tr>\n",
       "      <th>9999</th>\n",
       "      <td>1</td>\n",
       "      <td>61.944246</td>\n",
       "      <td>113.649103</td>\n",
       "    </tr>\n",
       "  </tbody>\n",
       "</table>\n",
       "<p>10000 rows × 3 columns</p>\n",
       "</div>"
      ],
      "text/plain": [
       "     Gender     Height      Weight\n",
       "0         0  73.847017  241.893563\n",
       "1         0  68.781904  162.310473\n",
       "2         0  74.110105  212.740856\n",
       "3         0  71.730978  220.042470\n",
       "4         0  69.881796  206.349801\n",
       "...     ...        ...         ...\n",
       "9995      1  66.172652  136.777454\n",
       "9996      1  67.067155  170.867906\n",
       "9997      1  63.867992  128.475319\n",
       "9998      1  69.034243  163.852461\n",
       "9999      1  61.944246  113.649103\n",
       "\n",
       "[10000 rows x 3 columns]"
      ]
     },
     "execution_count": 231,
     "metadata": {},
     "output_type": "execute_result"
    }
   ],
   "source": [
    "\n",
    "import pandas as pd\n",
    "lines = pd.read_csv(\"files/heights_weights_genders.csv\")\n",
    "lines = lines.replace(to_replace=\"Male\", value='0');\n",
    "lines = lines.replace(to_replace=\"Female\", value='1');\n",
    "lines"
   ]
  },
  {
   "cell_type": "markdown",
   "id": "84e45e57",
   "metadata": {},
   "source": [
    "### Task 3:\n",
    "    Check whether mens are heavier or women"
   ]
  },
  {
   "cell_type": "code",
   "execution_count": 232,
   "id": "0bd77ad1",
   "metadata": {},
   "outputs": [
    {
     "name": "stdout",
     "output_type": "stream",
     "text": [
      "mens are heavier\n"
     ]
    }
   ],
   "source": [
    "if (lines.groupby('Gender').mean()[\"Weight\"][0] > lines.groupby('Gender').mean()[\"Weight\"][1]):\n",
    "    print(\"mens are heavier\")\n",
    "else:\n",
    "    print(\"womans are heavier\")"
   ]
  },
  {
   "cell_type": "markdown",
   "id": "8e6d8801",
   "metadata": {},
   "source": [
    "### Task 4:\n",
    "    Read the tips file and check whether males pay more tips or females"
   ]
  },
  {
   "cell_type": "code",
   "execution_count": 233,
   "id": "67fbe4f0",
   "metadata": {},
   "outputs": [
    {
     "name": "stdout",
     "output_type": "stream",
     "text": [
      "males pay More Tips\n"
     ]
    }
   ],
   "source": [
    "import pandas as pd\n",
    "tips_df = pd.read_csv('files/tips.csv')\n",
    "tips_df.head()\n",
    "if( tips_df.groupby('sex').mean()[\"tip\"][\"Male\"] > tips_df.groupby('sex').mean()[\"tip\"][\"Female\"]):\n",
    "    print(\"males pay More Tips\")\n",
    "else:\n",
    "    print(\"females pay More Tips\")"
   ]
  },
  {
   "cell_type": "markdown",
   "id": "f356c41b",
   "metadata": {},
   "source": [
    "### Task:\n",
    "    Compute the average tips people give for different meals\n",
    "    Note:\n",
    "        Your program should not be static. As an example, if a dataframe with three meals were to be given to your code/function, it should be able to work properly without raising any errors or requirements for extra input.."
   ]
  },
  {
   "cell_type": "code",
   "execution_count": 234,
   "id": "a6017d20",
   "metadata": {},
   "outputs": [
    {
     "name": "stdout",
     "output_type": "stream",
     "text": [
      "['Dinner' 'Lunch']\n"
     ]
    },
    {
     "data": {
      "text/plain": [
       "{'Dinner': 3.102670454545455, 'Lunch': 2.7280882352941176}"
      ]
     },
     "execution_count": 234,
     "metadata": {},
     "output_type": "execute_result"
    }
   ],
   "source": [
    "different_meals = tips_df['time'].unique()\n",
    "print(different_meals)\n",
    "def average_tip (tips_df):\n",
    "    meals = tips_df[\"time\"].unique()\n",
    "    average_tips_meals = {}\n",
    "    for i in meals:\n",
    "        average_tips_meals[i] = tips_df.groupby('time').mean()[\"tip\"][i]\n",
    "    return average_tips_meals\n",
    "\n",
    "average_tip(tips_df) "
   ]
  },
  {
   "cell_type": "markdown",
   "id": "aa7b7e3c",
   "metadata": {},
   "source": [
    "### Task:\n",
    "    Which day of the week do smokers like the better?"
   ]
  },
  {
   "cell_type": "code",
   "execution_count": 235,
   "id": "9b103e68",
   "metadata": {},
   "outputs": [
    {
     "name": "stdout",
     "output_type": "stream",
     "text": [
      "[87] smokers like ['Sat'] more\n"
     ]
    }
   ],
   "source": [
    "a = dict(tips_df.groupby('day').count()[\"smoker\"].sort_values(ascending=False).head(1))\n",
    "print(f\"{[k for v,k in a.items()]} smokers like {[v for v,k in a.items()]} more\")\n"
   ]
  },
  {
   "cell_type": "markdown",
   "id": "b49b69cc",
   "metadata": {},
   "source": [
    "### Task:\n",
    "    compute the sum of tips( or any other column) paid by 4 different groups (Smoker-males, non-smoker-males, smoker-females, and non-smoker-females)\n",
    "    It's better to create a function to handle this task.\n",
    "    Note: you are not allowed to use group by and other out of the box functionalities.\n",
    "    Just: use dataframes and iterate over them ..."
   ]
  },
  {
   "cell_type": "code",
   "execution_count": 236,
   "id": "be935bc1",
   "metadata": {},
   "outputs": [
    {
     "name": "stdout",
     "output_type": "stream",
     "text": [
      "Smoker-males : 183.07\n",
      "non-smoker-males : 302.0\n",
      "smoker-females : 96.74 \n",
      "non-smoker-females : 149.77\n"
     ]
    }
   ],
   "source": [
    "Smoker_males=[]\n",
    "non_smoker_males=[]\n",
    "smoker_females=[]\n",
    "non_smoker_females=[]\n",
    "\n",
    "for i in range(len(tips_df)):\n",
    "    if tips_df[\"sex\"][i] == \"Male\" and tips_df[\"smoker\"][i] == \"Yes\":\n",
    "        Smoker_males.append(tips_df[\"tip\"][i])\n",
    "    elif tips_df[\"sex\"][i] == \"Male\" and tips_df[\"smoker\"][i] == \"No\":\n",
    "        non_smoker_males.append(tips_df[\"tip\"][i])\n",
    "    elif tips_df[\"sex\"][i] == \"Female\" and tips_df[\"smoker\"][i] == \"Yes\":\n",
    "        smoker_females.append(tips_df[\"tip\"][i])\n",
    "    elif tips_df[\"sex\"][i] == \"Female\" and tips_df[\"smoker\"][i] == \"No\":\n",
    "        non_smoker_females.append(tips_df[\"tip\"][i])\n",
    "        \n",
    "print(f\"Smoker-males : {sum(Smoker_males)}\\nnon-smoker-males : {sum(non_smoker_males)}\\nsmoker-females : {sum(smoker_females)} \\nnon-smoker-females : {sum(non_smoker_females)}\")"
   ]
  },
  {
   "cell_type": "markdown",
   "id": "167d1799",
   "metadata": {},
   "source": [
    ":) thanks for checking out"
   ]
  }
 ],
 "metadata": {
  "kernelspec": {
   "display_name": "Python 3 (ipykernel)",
   "language": "python",
   "name": "python3"
  },
  "language_info": {
   "codemirror_mode": {
    "name": "ipython",
    "version": 3
   },
   "file_extension": ".py",
   "mimetype": "text/x-python",
   "name": "python",
   "nbconvert_exporter": "python",
   "pygments_lexer": "ipython3",
   "version": "3.10.4"
  }
 },
 "nbformat": 4,
 "nbformat_minor": 5
}
