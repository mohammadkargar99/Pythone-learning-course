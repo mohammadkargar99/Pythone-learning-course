{
 "cells": [
  {
   "cell_type": "markdown",
   "id": "680ff3b6",
   "metadata": {},
   "source": [
    "# Exercises Python KNTU\n",
    "\n",
    "* Name: Mohammad Kargar-gazkoh\n",
    "* EMail: mohammadkargargazkoh@gmail.com\n",
    "* GitHub: https://github.com/mohammadkargar99"
   ]
  },
  {
   "cell_type": "markdown",
   "id": "2fa0dd9b",
   "metadata": {},
   "source": [
    "1. Take a list, say for example this one:\n",
    "\n",
    "a = [1, 1, 2, 3, 5, 8, 13, 21, 34, 55, 89]\n",
    "\n",
    "and write a program that prints out all the elements of the list that are less than 5.\n",
    "\n",
    "Extras:\n",
    "\n",
    "* Instead of printing the elements one by one, make a new list that has all the elements less than 5 from this list in it and print out this new list.\n",
    "* Write this in one line of Python."
   ]
  },
  {
   "cell_type": "code",
   "execution_count": 25,
   "id": "37297bdb",
   "metadata": {},
   "outputs": [
    {
     "name": "stdout",
     "output_type": "stream",
     "text": [
      "please enter a list of number:[1, 1, 2, 3, 5, 8, 13, 21, 34, 55, 89]\n",
      "<class 'str'>\n",
      "elements of the list that are less than 5 : [1.0, 1.0, 2.0, 3.0]\n"
     ]
    }
   ],
   "source": [
    "list1 = input('please enter a list of number:')\n",
    "print(type(list1))\n",
    "list2 = list1[1:-1].split(', ')\n",
    "list3 = []\n",
    "for i in list2:\n",
    "    if float(i) < 5:\n",
    "        list3.append(float(i))\n",
    "    else:\n",
    "        continue\n",
    "print('elements of the list that are less than 5 :',list3)"
   ]
  },
  {
   "cell_type": "code",
   "execution_count": 26,
   "id": "a8764ee8",
   "metadata": {},
   "outputs": [
    {
     "name": "stdout",
     "output_type": "stream",
     "text": [
      "please enter a list of number:[1, 1, 2, 3, 5, 8, 13, 21, 34, 55, 89]\n",
      "elements of the list that are less than 5 : [1.0, 1.0, 2.0, 3.0]\n"
     ]
    }
   ],
   "source": [
    "# Write this in one line of Python.\n",
    "list1 = input('please enter a list of number:')\n",
    "list2 =[float(i) for i in list1[1:-1].split(', ') if float(i) < 5]\n",
    "print('elements of the list that are less than 5 :',list2)"
   ]
  },
  {
   "cell_type": "markdown",
   "id": "07aaa2ea",
   "metadata": {},
   "source": [
    "2. Make a two-player Rock-Paper-Scissors game. (Hint: Ask for player plays (using input), compare them, print out a message of congratulations to the winner, and ask if the players want to start a new game)\n",
    "\n",
    "Remember the rules:\n",
    "\n",
    "* Rock beats scissors\n",
    "* Scissors beats paper\n",
    "* Paper beats rock"
   ]
  },
  {
   "cell_type": "code",
   "execution_count": 5,
   "id": "bf22867b",
   "metadata": {},
   "outputs": [],
   "source": [
    "import numpy as np"
   ]
  },
  {
   "cell_type": "code",
   "execution_count": 6,
   "id": "3b2e738e",
   "metadata": {},
   "outputs": [
    {
     "name": "stdout",
     "output_type": "stream",
     "text": [
      "Play a hand (Rock, Paper, Scissors): Rock\n",
      "Your choice is \"Rock\", computer played \"Paper\"\n",
      "Computer won!\n",
      "Do you still want to play?\n",
      "You 0 vs. Computer 1\n"
     ]
    }
   ],
   "source": [
    "opts = ['Rock', 'Scissors', 'Paper']\n",
    "\n",
    "computer_wins = 0\n",
    "player_wins = 0\n",
    "\n",
    "new_game = 1\n",
    "while new_game:\n",
    "    computer = opts[np.random.randint(low=1, high=4)-1]\n",
    "    player = input('Play a hand (Rock, Paper, Scissors): ')\n",
    "    \n",
    "    print('Your choice is \"{0}\", computer played \"{1}\"'.format(player, computer))\n",
    "    \n",
    "    if player == computer:\n",
    "        print('You played the same.')\n",
    "    elif (player == 'Rock') and (computer == 'Scissors'):\n",
    "        print('You won!')\n",
    "        player_wins += 1\n",
    "    elif (player == 'Paper') and (computer == 'Rock'):\n",
    "        print('You won!')\n",
    "        player_wins += 1\n",
    "    elif (player == 'Scissors') and (computer == 'Paper'):\n",
    "        print('You won!')\n",
    "        player_wins += 1\n",
    "    else:\n",
    "        print('Computer won!')\n",
    "        computer_wins += 1\n",
    "    \n",
    "    new_game = input('Do you still want to play?')\n",
    "    \n",
    "print('You {0} vs. Computer {1}'.format(player_wins, computer_wins))"
   ]
  },
  {
   "cell_type": "markdown",
   "id": "245bf0a5",
   "metadata": {},
   "source": [
    "3. Write a program that asks the user how many Fibonnaci numbers to generate and then generates them. Take this opportunity to think about how you can use functions. Make sure to ask the user to enter the number of numbers in the sequence to generate.*(Hint: The Fibonnaci seqence is a sequence of numbers where the next number in the sequence is the sum of the previous two numbers in the sequence. The sequence looks like this: 1, 1, 2, 3, 5, 8, 13, …)*"
   ]
  },
  {
   "cell_type": "code",
   "execution_count": 27,
   "id": "8d21b58b",
   "metadata": {},
   "outputs": [
    {
     "name": "stdout",
     "output_type": "stream",
     "text": [
      "Enter how many elements of Fibonnaci you want:6\n",
      "[1, 1, 2, 3, 5, 8]\n"
     ]
    }
   ],
   "source": [
    "num_elm = int(input('Enter how many elements of Fibonnaci you want:'))\n",
    "res = [1, 1]\n",
    "for i in range(num_elm - 2):\n",
    "     res.append(res[i] + res[i+1])\n",
    "print(res)"
   ]
  },
  {
   "cell_type": "code",
   "execution_count": 32,
   "id": "3a12f0b3",
   "metadata": {},
   "outputs": [
    {
     "data": {
      "text/plain": [
       "[1, 1, 2, 3, 5, 8]"
      ]
     },
     "execution_count": 32,
     "metadata": {},
     "output_type": "execute_result"
    }
   ],
   "source": [
    "# write a function of Fibonnaci\n",
    "def fib(number):\n",
    "    res = [1, 1]\n",
    "    num = int(number)\n",
    "    for i in range(number - 2):\n",
    "        res.append(res[i] + res[i+1])\n",
    "    return res\n",
    "fib(6)"
   ]
  },
  {
   "cell_type": "markdown",
   "id": "0e20978a",
   "metadata": {},
   "source": [
    "4. Check a pre-defined password with user inputs for 3 times; let them pass if their correct with less than 4 tries.\n",
    "\n",
    "Links for more exercises:\n",
    "\n",
    "https://www.practicepython.org/\n",
    "\n",
    "https://www.w3resource.com/python-exercises/\n"
   ]
  },
  {
   "cell_type": "code",
   "execution_count": 34,
   "id": "c938147c",
   "metadata": {},
   "outputs": [
    {
     "name": "stdout",
     "output_type": "stream",
     "text": [
      "please inter a password :f\n",
      "incorrect password you are 2 chance\n",
      "please inter a password :f\n",
      "incorrect password you are 1 chance\n",
      "please inter a password :f\n",
      "incorrect password you are 0 chance\n",
      "You are blocked.\n"
     ]
    }
   ],
   "source": [
    "password = 'mohammad'\n",
    "i = 1\n",
    "j = 3\n",
    "while i < 4:\n",
    "    inter_pass = input('please inter a password :')\n",
    "    if inter_pass == password:\n",
    "        print('wellcome')\n",
    "        break\n",
    "        i += 1\n",
    "    else:\n",
    "        print(f'incorrect password you are {j - 1} chance')\n",
    "        i+=1\n",
    "        j -= 1\n",
    "    if i == 4:\n",
    "        print('You are blocked.')"
   ]
  },
  {
   "cell_type": "markdown",
   "id": "6c1b218c",
   "metadata": {},
   "source": [
    "# Exercise\n",
    "1. Write a python program to detect integer numbers in a list of strings and cast them to int and print them\n",
    "\n",
    "example: \n",
    "input: lst = ['11', 'pooya', '10', '10.5']\n",
    "\n",
    "result: 11 10\n",
    "\n",
    "note: in this exercise you are not allowed to use:\n",
    "\n",
    "try except, str.isdecimal, \n",
    "\n",
    "just use: for while True False if ... "
   ]
  },
  {
   "cell_type": "code",
   "execution_count": 4,
   "id": "b00373f1",
   "metadata": {},
   "outputs": [
    {
     "name": "stdout",
     "output_type": "stream",
     "text": [
      "11\n",
      "10\n"
     ]
    }
   ],
   "source": [
    "# answer\n",
    "import re\n",
    "lst = ['11', 'pooya', '10', '10.5','#']\n",
    "for i in lst:\n",
    "    result = re.match(\"[-+]?\\d+$\", i)\n",
    "    if result is not None:\n",
    "        print(int(i))\n",
    "lst = ['11', 'pooya', '10', '10.5','#']"
   ]
  },
  {
   "cell_type": "markdown",
   "id": "73557903",
   "metadata": {},
   "source": [
    "2. Write a Python program to print all even numbers from a given numbers list in the same order and stop the printing if any numbers that come after 237 in the sequence. Go to the editor\n",
    "Sample numbers list :\n",
    "\n",
    "numbers = [386, 462, 47, 418, 907, 344, 236, 375, 823, 566, 597, 978, 328, 615, 953, 345, \n",
    "    399, 162, 758, 219, 918, 237, 412, 566, 826, 248, 866, 950, 626, 949, 687, 217, \n",
    "    815, 67, 104, 58, 512, 24, 892, 894, 767, 553, 81, 379, 843, 831, 445, 742, 717, \n",
    "    958,743, 527\n",
    "    ]\n"
   ]
  },
  {
   "cell_type": "code",
   "execution_count": 36,
   "id": "5a6ca87b",
   "metadata": {},
   "outputs": [
    {
     "name": "stdout",
     "output_type": "stream",
     "text": [
      "386\n",
      "462\n",
      "418\n",
      "344\n",
      "236\n",
      "566\n",
      "978\n",
      "328\n",
      "162\n",
      "758\n",
      "918\n",
      "237\n"
     ]
    }
   ],
   "source": [
    "numbers = [386, 462, 47, 418, 907, 344, 236, 375, 823, 566, 597, 978, 328, 615, 953, 345, 399, 162, 758, 219, 918, 237, 412, 566, 826, 248, 866, 950, 626, 949, 687, 217, 815, 67, 104, 58, 512, 24, 892, 894, 767, 553, 81, 379, 843, 831, 445, 742, 717, 958,743, 527 ]\n",
    "for i in numbers:\n",
    "    if i == 237:\n",
    "        print(i)\n",
    "        break;\n",
    "    elif i % 2 == 0:\n",
    "        print(i)"
   ]
  },
  {
   "cell_type": "markdown",
   "id": "973ea3a0",
   "metadata": {},
   "source": [
    "3.Write a Python program to sum of two given integers. However, if the sum is between 15 to 20 it will return 20."
   ]
  },
  {
   "cell_type": "code",
   "execution_count": 37,
   "id": "59244f5e",
   "metadata": {},
   "outputs": [
    {
     "name": "stdout",
     "output_type": "stream",
     "text": [
      "20\n"
     ]
    }
   ],
   "source": [
    "def sum(x, y):\n",
    "    sum = x + y\n",
    "    if sum in range(15, 20):\n",
    "        return 20\n",
    "    else:\n",
    "        return sum\n",
    "print(sum(10,8))"
   ]
  },
  {
   "cell_type": "markdown",
   "id": "527a8ff0",
   "metadata": {},
   "source": [
    "4. Write a Python program to count the members of a list and print them\n",
    "\n",
    "example = [1,5,6,1,1,'s','s','pooya']\n",
    "\n",
    "res:\n",
    "\n",
    "        1 >>> 3\n",
    "        \n",
    "        5 >>> 1\n",
    "        \n",
    "        6 >>> 1\n",
    "        \n",
    "        's' >>> 2\n",
    "        \n",
    "        'pooya' >>> 1\n",
    "\n",
    "note: in this exercise you are not allowed to use:\n",
    "collection.Counter, np.unique and ...\n",
    "just use for, while, True, False"
   ]
  },
  {
   "cell_type": "code",
   "execution_count": 1,
   "id": "4ec2f3bc",
   "metadata": {},
   "outputs": [
    {
     "name": "stdout",
     "output_type": "stream",
     "text": [
      "\n",
      "1 >>> 3\n",
      "\n",
      "5 >>> 1\n",
      "\n",
      "6 >>> 1\n",
      "\n",
      "s >>> 2\n",
      "\n",
      "pooya >>> 1\n"
     ]
    }
   ],
   "source": [
    "MyList = [1,5,6,1,1,'s','s','pooya']\n",
    "\n",
    "count = {}\n",
    "for i in MyList:\n",
    "    if not i in count:\n",
    "        count[i] = 1\n",
    "    else:\n",
    "        count[i] += 1\n",
    "for k,v in count.items():\n",
    "    print(f'\\n{k} >>> {v}')\n"
   ]
  },
  {
   "cell_type": "markdown",
   "id": "e86f3ce6",
   "metadata": {},
   "source": [
    ":) thanks for checking out my exercises"
   ]
  }
 ],
 "metadata": {
  "kernelspec": {
   "display_name": "Python 3 (ipykernel)",
   "language": "python",
   "name": "python3"
  },
  "language_info": {
   "codemirror_mode": {
    "name": "ipython",
    "version": 3
   },
   "file_extension": ".py",
   "mimetype": "text/x-python",
   "name": "python",
   "nbconvert_exporter": "python",
   "pygments_lexer": "ipython3",
   "version": "3.10.4"
  }
 },
 "nbformat": 4,
 "nbformat_minor": 5
}
